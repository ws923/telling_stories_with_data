{
 "cells": [
  {
   "cell_type": "code",
   "execution_count": 2,
   "metadata": {},
   "outputs": [
    {
     "data": {
      "text/html": [
       "<iframe src=https://api.bls.gov/publicAPI/v1/timeseries/data/CFU0000008000 width=1000 height=100></iframe>"
      ],
      "text/plain": [
       "<IPython.core.display.HTML object>"
      ]
     },
     "execution_count": 2,
     "metadata": {},
     "output_type": "execute_result"
    }
   ],
   "source": [
    "# Methods for display of arbitrary HTML\n",
    "from IPython.display import HTML\n",
    "\n",
    "# Methods for capture of secure info (like registration keys)\n",
    "import getpass\n",
    "\n",
    "# Methods for capture of data returned by GET request\n",
    "import requests\n",
    "\n",
    "# Methods for turning API result into pandas DataFrame\n",
    "import json\n",
    "import numpy as np\n",
    "import pandas as pd\n",
    "\n",
    "# Methods for plotting\n",
    "import bokeh.plotting as bp\n",
    "\n",
    "# Display result in an iframe\n",
    "def show_iframe(url, height=400, width=1000):\n",
    "    display_string = '<iframe src={url} width={w} height={h}></iframe>'.format(url=url, w=width, h=height)\n",
    "    return HTML(display_string)\n",
    "\n",
    "show_iframe('https://api.bls.gov/publicAPI/v1/timeseries/data/CFU0000008000', height=100)"
   ]
  },
  {
   "cell_type": "code",
   "execution_count": 3,
   "metadata": {},
   "outputs": [
    {
     "data": {
      "text/html": [
       "<iframe src=https://data.bls.gov/registrationEngine/ width=1000 height=400></iframe>"
      ],
      "text/plain": [
       "<IPython.core.display.HTML object>"
      ]
     },
     "execution_count": 3,
     "metadata": {},
     "output_type": "execute_result"
    }
   ],
   "source": [
    "show_iframe('https://data.bls.gov/registrationEngine/')"
   ]
  },
  {
   "cell_type": "code",
   "execution_count": 4,
   "metadata": {},
   "outputs": [],
   "source": [
    "# Capture key\n",
    "reg_key = getpass.getpass('Enter Registration Key: ')"
   ]
  },
  {
   "cell_type": "code",
   "execution_count": 5,
   "metadata": {},
   "outputs": [
    {
     "data": {
      "text/html": [
       "<iframe src=https://www.bls.gov/help/hlpforma.htm#CX width=1000 height=400></iframe>"
      ],
      "text/plain": [
       "<IPython.core.display.HTML object>"
      ]
     },
     "execution_count": 5,
     "metadata": {},
     "output_type": "execute_result"
    }
   ],
   "source": [
    "show_iframe('https://www.bls.gov/help/hlpforma.htm#CX', height=400)"
   ]
  },
  {
   "cell_type": "code",
   "execution_count": 19,
   "metadata": {},
   "outputs": [
    {
     "data": {
      "text/plain": [
       "{'Results': {'series': [{'data': [{'footnotes': [{}],\n",
       "      'period': 'A01',\n",
       "      'periodName': 'Annual',\n",
       "      'value': '546',\n",
       "      'year': '2016'},\n",
       "     {'footnotes': [{}],\n",
       "      'period': 'A01',\n",
       "      'periodName': 'Annual',\n",
       "      'value': '636',\n",
       "      'year': '2015'},\n",
       "     {'footnotes': [{}],\n",
       "      'period': 'A01',\n",
       "      'periodName': 'Annual',\n",
       "      'value': '496',\n",
       "      'year': '2014'},\n",
       "     {'footnotes': [{}],\n",
       "      'period': 'A01',\n",
       "      'periodName': 'Annual',\n",
       "      'value': '528',\n",
       "      'year': '2013'},\n",
       "     {'footnotes': [{}],\n",
       "      'period': 'A01',\n",
       "      'periodName': 'Annual',\n",
       "      'value': '506',\n",
       "      'year': '2012'}],\n",
       "    'seriesID': 'CXUFURNITURLB1408M'}]},\n",
       " 'message': [],\n",
       " 'responseTime': 50,\n",
       " 'status': 'REQUEST_SUCCEEDED'}"
      ]
     },
     "execution_count": 19,
     "metadata": {},
     "output_type": "execute_result"
    }
   ],
   "source": [
    "# Build series; unadjusted furniture purchases, highest level of education by any household member, completed bachelor's degree, process code\n",
    "series = 'CXUFURNITURLB1408M'\n",
    "\n",
    "def capture_request(series, start, end, key=reg_key):\n",
    "    # Define base URL (for v2)\n",
    "    url = 'https://api.bls.gov/publicAPI/v2/timeseries/data/'\n",
    "    # Concatenate registration key\n",
    "    url += '?registrationkey={key}'.format(key=key)\n",
    "    # Cast data request as JSON\n",
    "    data = json.dumps({\n",
    "        \"seriesid\": [series],\n",
    "        \"startyear\": str(start),\n",
    "        \"endyear\": str(end)\n",
    "    })\n",
    "    # Capture content type of request\n",
    "    headers = {\n",
    "        \"Content-type\": \"application/json\"\n",
    "    }\n",
    "    # Request data\n",
    "    result = requests.post(url, data=data, headers=headers)\n",
    "    return json.loads(result.text)\n",
    "\n",
    "# Capture and display JSON representation of the data\n",
    "json_data = capture_request(series, 2012, 2016)\n",
    "\n",
    "json_data"
   ]
  },
  {
   "cell_type": "code",
   "execution_count": 20,
   "metadata": {},
   "outputs": [
    {
     "name": "stdout",
     "output_type": "stream",
     "text": [
      "  footnotes period periodName value  year\n",
      "0      [{}]    A01     Annual   546  2016\n",
      "1      [{}]    A01     Annual   636  2015\n",
      "2      [{}]    A01     Annual   496  2014\n",
      "3      [{}]    A01     Annual   528  2013\n",
      "4      [{}]    A01     Annual   506  2012\n"
     ]
    },
    {
     "data": {
      "text/html": [
       "<div>\n",
       "<style scoped>\n",
       "    .dataframe tbody tr th:only-of-type {\n",
       "        vertical-align: middle;\n",
       "    }\n",
       "\n",
       "    .dataframe tbody tr th {\n",
       "        vertical-align: top;\n",
       "    }\n",
       "\n",
       "    .dataframe thead th {\n",
       "        text-align: right;\n",
       "    }\n",
       "</style>\n",
       "<table border=\"1\" class=\"dataframe\">\n",
       "  <thead>\n",
       "    <tr style=\"text-align: right;\">\n",
       "      <th></th>\n",
       "      <th>value</th>\n",
       "    </tr>\n",
       "    <tr>\n",
       "      <th>year</th>\n",
       "      <th></th>\n",
       "    </tr>\n",
       "  </thead>\n",
       "  <tbody>\n",
       "    <tr>\n",
       "      <th>2012</th>\n",
       "      <td>506</td>\n",
       "    </tr>\n",
       "    <tr>\n",
       "      <th>2013</th>\n",
       "      <td>528</td>\n",
       "    </tr>\n",
       "    <tr>\n",
       "      <th>2014</th>\n",
       "      <td>496</td>\n",
       "    </tr>\n",
       "    <tr>\n",
       "      <th>2015</th>\n",
       "      <td>636</td>\n",
       "    </tr>\n",
       "    <tr>\n",
       "      <th>2016</th>\n",
       "      <td>546</td>\n",
       "    </tr>\n",
       "  </tbody>\n",
       "</table>\n",
       "</div>"
      ],
      "text/plain": [
       "      value\n",
       "year       \n",
       "2012    506\n",
       "2013    528\n",
       "2014    496\n",
       "2015    636\n",
       "2016    546"
      ]
     },
     "execution_count": 20,
     "metadata": {},
     "output_type": "execute_result"
    }
   ],
   "source": [
    "# Convert to DF\n",
    "df_data = pd.DataFrame(json_data['Results']['series'][0]['data'])\n",
    "print(df_data)\n",
    "\n",
    "# Retain only the values and years (convert both values to int)\n",
    "df_sub = df_data[['year', 'value']].astype(int)\n",
    "\n",
    "# Set year to index\n",
    "df_sub.set_index('year', inplace=True)\n",
    "\n",
    "# Sort index\n",
    "df_sub.sort_index(inplace=True)\n",
    "\n",
    "df_sub"
   ]
  },
  {
   "cell_type": "code",
   "execution_count": 26,
   "metadata": {},
   "outputs": [
    {
     "data": {
      "text/html": [
       "<iframe src=bls_api_fig.html width=650 height=350></iframe>"
      ],
      "text/plain": [
       "<IPython.core.display.HTML object>"
      ]
     },
     "execution_count": 26,
     "metadata": {},
     "output_type": "execute_result"
    }
   ],
   "source": [
    "# Create file path to hold figure we are about to make\n",
    "bp.output_file('bls_api_fig.html')\n",
    "\n",
    "# Create plotting figure\n",
    "fig = bp.figure(plot_width=600, plot_height=300)\n",
    "\n",
    "# Add a line to the figure\n",
    "fig.line(df_sub.index, df_sub['value'], line_width=3, color='blue')\n",
    "\n",
    "# Annotate plot\n",
    "fig.title.text = \"Furniture Spending Spiked in 2015 for Households with a Bachelor's-Degree Holder\"\n",
    "fig.xaxis.axis_label = \"Year\"\n",
    "fig.yaxis.axis_label = \"Furniture Expenditures\"\n",
    "\n",
    "# Show the figure\n",
    "bp.save(fig)\n",
    "\n",
    "show_iframe('bls_api_fig.html', width=650, height=350)"
   ]
  },
  {
   "cell_type": "code",
   "execution_count": null,
   "metadata": {},
   "outputs": [],
   "source": []
  }
 ],
 "metadata": {
  "kernelspec": {
   "display_name": "Python 3",
   "language": "python",
   "name": "python3"
  },
  "language_info": {
   "codemirror_mode": {
    "name": "ipython",
    "version": 3
   },
   "file_extension": ".py",
   "mimetype": "text/x-python",
   "name": "python",
   "nbconvert_exporter": "python",
   "pygments_lexer": "ipython3",
   "version": "3.6.3"
  }
 },
 "nbformat": 4,
 "nbformat_minor": 2
}
