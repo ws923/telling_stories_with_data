{
 "cells": [
  {
   "cell_type": "markdown",
   "metadata": {},
   "source": [
    "# Assignment 3"
   ]
  },
  {
   "cell_type": "code",
   "execution_count": null,
   "metadata": {},
   "outputs": [],
   "source": [
    "# Data manipulation\n",
    "import numpy as np\n",
    "import pandas as pd\n",
    "# Data visualization\n",
    "# import bokeh.plotting as bp\n",
    "# import bokeh.models as bm\n",
    "# import bokeh.core.properties as bcp\n",
    "# import bokeh.io as bio\n",
    "import plotly as pl\n",
    "import plotly.graph_objs as pgo\n",
    "%pylab inline\n",
    "# Interactive widget functionality\n",
    "from IPython.display import display, HTML\n",
    "from ipywidgets import widgets, Layout, Box, VBox\n",
    "\n",
    "# Set paths\n",
    "fig_dir = './figs/'\n",
    "data_dir = './data/'\n",
    "\n",
    "# Refresh data flag\n",
    "refresh_data = False\n",
    "\n",
    "# Display result in an iframe\n",
    "def show_iframe(url, height=400, width=1000):\n",
    "    display_string = '<iframe src={url} width={w} height={h}></iframe>'.format(url=url, w=width, h=height)\n",
    "    print(display_string)\n",
    "    return HTML(display_string)"
   ]
  },
  {
   "cell_type": "markdown",
   "metadata": {},
   "source": [
    "# Import Data"
   ]
  },
  {
   "cell_type": "code",
   "execution_count": 9,
   "metadata": {},
   "outputs": [
    {
     "name": "stdout",
     "output_type": "stream",
     "text": [
      "County FIPS code\tCounty name\tState\tAverage out-of-pocket healthcare spending\tAverage out-of-pocket healthcare burden (%)\tAverage estimated annual gross income\tAverage age\tSample size\tState Medicaid expansion status as of 2016 (1=Expanded; 0=Did not expand)\tCounty uninsurance rate in 2016 (%)\tPercent change in out-of-pocket healthcare spending (2015-2016)\tPercentage point change of out-of-pocket healthcare burden (2015-2016)\tHealth Coutcomes/Z-Score\tHealth Factors/Z-Score\tLength of Life/Z-Score\tQuality of Life/Z-Score\tHealth Behaviors/Z-Score\tClinical Care/Z-Score\tSocial & Economic Factors/Z-Score\tPhysical Environment/Z-Score\tPremature Death/Years of Potential Life Lost Rate\t% Fair/Poor Health\tPhysically Unhealthy Days\tMentally Unhealthy Days\t% Low Birth Weight\t% Smokers (Adult)\t% Obese (Adult)\tFood Environment Index\t% Physically Inactive\t% With Access to Exercise Opportunities\t% Excessive Drinking\t% Uninsured\t% Uninsured Adults\t% Uninsured Children\tPrimary Care Physician-Resident Ratio (Z-Score)\tDentist-Resident Ratio (Z-Score)\t# Diabetics\tHigh school graduate rates (Z-Scores)\tSome college (Z-Score)\tUnemployment (Z-Score)\tHousehold Income\tHousehold income (Black)\tHousehold income (Hispanic)\tHousehold income (White)\t% Students Free or Reduced Lunch\tPopulation\t% < 18\t% 65 and over\t% African American\t% American Indian/Alaskan Native\t% Asian\t% Native Hawaiian/Other Pacific Islander\t% Hispanic\t% Non-Hispanic White\t% Not Proficient in English\t% Female\t% Rural\n",
      "34001\tAtlantic\t\t\t\t\t\t\t\t\t\t\t0.74\t0.7\t0.49\t0.24\t0.29\t0.03\t0.38\t-0.01\t7454\t18.63050358\t4.015823139\t3.70769241\t8.170555254\t18.5766379\t27.6\t7.5\t26.1\t91.88560148\t17.41123494\t10.85820416\t13\t4\t-0.06\t0.847702886\t4642\t0.227009317\t0.923527475\t1.415654434\t55672\t32155\t42361\t66708\t55.59798142\t270991\t21.72692082\t16.90093029\t14.63443435\t0.676037212\t8.471868069\t0.073434173\t18.78328063\t56.26718231\t5.91497299\t51.58658406\t12.71357754\n",
      "34003\tBergen\t\t\t\t\t\t\t\t\t\t\t-0.98\t-0.76\t-0.67\t-0.31\t-0.3\t-0.14\t-0.34\t0.02\t3859\t13.41175917\t3.096227777\t3.243961748\t7.935535266\t12.65170177\t22.1\t9.2\t21.6\t99.27578344\t16.38697415\t9.575746218\t12\t4\t-1.56\t-2.32682644\t11124\t-1.131684822\t-1.10146532\t-0.774212085\t93205\t66950\t65047\t94592\t20.84680193\t939151\t21.43425285\t16.48755099\t5.455459239\t0.441781993\t16.74139728\t0.081882466\t19.39656136\t57.09901816\t6.474344783\t51.54400091\t0.101533947\n",
      "34005\tBurlington\tNJ\t633\t0.9\t84649\t43\t521\t1\t3\t2.3\t-0.31\t-0.17\t-0.31\t-0.04\t-0.13\t-0.04\t-0.09\t-0.22\t0.04\t5797\t12.75412669\t3.38144922\t3.340713011\t8.432218061\t13.7374486\t28.2\t8.4\t22.4\t83.30570004\t18.13289196\t5.879601809\t7\t3\t-0.2\t0.272150116\t6149\t-0.646162858\t-0.551801212\t-0.593730132\t80081\t67868\t68403\t82494\t26.07695074\t449284\t21.09823631\t16.31306701\t16.55456237\t0.319619662\t5.222977003\t0.076343694\t7.855832836\t67.92140383\t1.676075845\t50.72671184\t6.66319022\n",
      "34007\tCamden\tNJ\t462\t0.9\t70306\t42\t159\t1\t5\t19.7\t0.06\t1.06\t0.45\t0.5\t0.56\t0.18\t0.02\t0.2\t0.05\t7464\t17.95612308\t4.037270517\t4.212237983\t8.966935682\t16.69955604\t29.4\t8.1\t26.4\t93.12946188\t16.95196682\t8.752000814\t11\t3\t-0.92\t-0.021134532\t6830\t0.759092267\t0.1389153\t0.108920026\t65838\t42839\t40345\t74064\t44.08549559\t510150\t22.99108106\t14.9424679\t18.60295991\t0.630794864\t5.944918161\t0.097226306\t16.38557287\t57.25198471\t4.638743914\t51.68695482\t1.617421743\n",
      "34009\tCape May\t\t\t\t\t\t\t\t\t\t\t0.56\t0.39\t0.77\t-0.21\t0.15\t-0.06\t0.39\t-0.09\t8288\t14.79151548\t3.592848618\t3.823490743\t6.807028653\t14.86291302\t28.8\t7.6\t22.8\t94.45741017\t18.83324534\t10.37153025\t12\t5\t0.72\t0.912628218\t2170\t0.702376676\t0.518329855\t3.047801098\t59181\t38760\t29559\t61659\t39.2845787\t94430\t17.75706873\t24.98888065\t4.280419358\t0.336757386\t1.052631579\t0.070952028\t7.616223658\t85.3065763\t1.211607664\t50.9562639\t17.45437722\n",
      "34011\tCumberland\t\t\t\t\t\t\t\t\t\t\t1.63\t1.26\t0.78\t0.86\t0.42\t0.22\t0.61\t0.01\t8322\t23.1549308\t4.230811783\t4.053664612\t9.746722493\t17.1503382\t34.7\t7.5\t29.3\t81.12977858\t17.15463109\t12.74221866\t16\t5\t1.27\t0.599603181\t2576\t1.930443709\t2.774503464\t1.465693293\t48867\t40845\t36165\t57393\t52.24395857\t153797\t23.8366158\t14.38844711\t18.83716848\t1.696391997\t1.5286384\t0.137193833\t30.19694793\t46.82861174\t7.153131947\t48.75127603\t23.02706217\n",
      "34013\tEssex\tNJ\t903\t1.1\t110828\t44\t7576\t1\t6\t5.5\t0.06\t0.95\t0.6\t0.38\t0.57\t0.08\t0.08\t0.4\t0.04\t7103\t20.91890503\t3.855442855\t3.604268617\t9.774828614\t15.23420662\t28.5\t7.5\t25.1\t99.93214017\t15.38822175\t13.63844924\t17\t5\t-0.15\t-0.71492914\t8317\t1.670834087\t0.627363624\t0.478046059\t54879\t37756\t41932\t93996\t53.62307913\t796914\t23.7844987\t12.87127595\t38.99128388\t0.712498463\t5.567100089\t0.119084368\t22.67772934\t31.3047581\t8.137980441\t51.89405632\t0.014541391\n",
      "34015\tGloucester\t\t\t\t\t\t\t\t\t\t\t0.54\t0.17\t0.2\t0.35\t0.2\t0.06\t-0.12\t0.04\t6537\t15.50610624\t3.780623517\t4.274811641\t8.464243845\t16.21780067\t30.9\t8.1\t24.5\t87.10699023\t20.38444094\t6.612729453\t8\t3\t0.79\t1.407225312\t3742\t-0.420028102\t-0.176080065\t-0.174535719\t79332\t58762\t54124\t81677\t27.64989405\t292330\t22.45920706\t15.04156262\t10.12178018\t0.268190059\t3.049977765\t0.066705436\t6.022987719\t78.88790066\t1.352633473\t51.34505525\t8.345820846\n",
      "34017\tHudson\tNJ\t622\t1\t85885\t40\t7228\t1\t8\t4\t0.06\t0.02\t0.49\t-0.32\t0.34\t-0.01\t0.32\t0.23\t-0.05\t4953\t20.74318855\t3.92299504\t3.597561466\t8.644258716\t15.64503491\t23.1\t8.8\t25.3\t99.92857886\t16.88688787\t14.79724516\t18\t5\t0.94\t0.710008977\t5954\t1.804172641\t-0.357012017\t-0.436570455\t63157\t43839\t44180\t81481\t69.8194631\t677983\t20.46231248\t10.99098355\t10.86605416\t1.159321104\t15.92753801\t0.195137636\t43.17497636\t28.85618076\t14.14879719\t50.22058075\t0\n"
     ]
    }
   ],
   "source": [
    "! head -10 ./data/NJ_data.csv"
   ]
  },
  {
   "cell_type": "markdown",
   "metadata": {},
   "source": [
    "## Prepare Data"
   ]
  },
  {
   "cell_type": "code",
   "execution_count": 31,
   "metadata": {},
   "outputs": [
    {
     "ename": "KeyError",
     "evalue": "\"['%_Female' 'Average_out-of-pocket_healthcare_spending' 'County_name'] not in index\"",
     "output_type": "error",
     "traceback": [
      "\u001b[0;31m---------------------------------------------------------------------------\u001b[0m",
      "\u001b[0;31mKeyError\u001b[0m                                  Traceback (most recent call last)",
      "\u001b[0;32m<ipython-input-31-f6d9116671c4>\u001b[0m in \u001b[0;36m<module>\u001b[0;34m()\u001b[0m\n\u001b[1;32m      6\u001b[0m \u001b[0;34m\u001b[0m\u001b[0m\n\u001b[1;32m      7\u001b[0m \u001b[0;31m# Plot tip as a function of toal bill across days\u001b[0m\u001b[0;34m\u001b[0m\u001b[0;34m\u001b[0m\u001b[0m\n\u001b[0;32m----> 8\u001b[0;31m \u001b[0mg\u001b[0m \u001b[0;34m=\u001b[0m \u001b[0msns\u001b[0m\u001b[0;34m.\u001b[0m\u001b[0mlmplot\u001b[0m\u001b[0;34m(\u001b[0m\u001b[0mx\u001b[0m\u001b[0;34m=\u001b[0m\u001b[0;34m\"%_Female\"\u001b[0m\u001b[0;34m,\u001b[0m \u001b[0my\u001b[0m\u001b[0;34m=\u001b[0m\u001b[0;34m\"Average_out-of-pocket_healthcare_spending\"\u001b[0m\u001b[0;34m,\u001b[0m \u001b[0mhue\u001b[0m\u001b[0;34m=\u001b[0m\u001b[0;34m\"County_name\"\u001b[0m\u001b[0;34m,\u001b[0m \u001b[0mdata\u001b[0m\u001b[0;34m=\u001b[0m\u001b[0mcty\u001b[0m\u001b[0;34m)\u001b[0m\u001b[0;34m\u001b[0m\u001b[0m\n\u001b[0m\u001b[1;32m      9\u001b[0m \u001b[0;34m\u001b[0m\u001b[0m\n\u001b[1;32m     10\u001b[0m \u001b[0;31m# Use more informative axis labels than are provided by default\u001b[0m\u001b[0;34m\u001b[0m\u001b[0;34m\u001b[0m\u001b[0m\n",
      "\u001b[0;32m~/miniconda3/lib/python3.6/site-packages/seaborn/regression.py\u001b[0m in \u001b[0;36mlmplot\u001b[0;34m(x, y, data, hue, col, row, palette, col_wrap, size, aspect, markers, sharex, sharey, hue_order, col_order, row_order, legend, legend_out, x_estimator, x_bins, x_ci, scatter, fit_reg, ci, n_boot, units, order, logistic, lowess, robust, logx, x_partial, y_partial, truncate, x_jitter, y_jitter, scatter_kws, line_kws)\u001b[0m\n\u001b[1;32m    550\u001b[0m     \u001b[0mneed_cols\u001b[0m \u001b[0;34m=\u001b[0m \u001b[0;34m[\u001b[0m\u001b[0mx\u001b[0m\u001b[0;34m,\u001b[0m \u001b[0my\u001b[0m\u001b[0;34m,\u001b[0m \u001b[0mhue\u001b[0m\u001b[0;34m,\u001b[0m \u001b[0mcol\u001b[0m\u001b[0;34m,\u001b[0m \u001b[0mrow\u001b[0m\u001b[0;34m,\u001b[0m \u001b[0munits\u001b[0m\u001b[0;34m,\u001b[0m \u001b[0mx_partial\u001b[0m\u001b[0;34m,\u001b[0m \u001b[0my_partial\u001b[0m\u001b[0;34m]\u001b[0m\u001b[0;34m\u001b[0m\u001b[0m\n\u001b[1;32m    551\u001b[0m     \u001b[0mcols\u001b[0m \u001b[0;34m=\u001b[0m \u001b[0mnp\u001b[0m\u001b[0;34m.\u001b[0m\u001b[0munique\u001b[0m\u001b[0;34m(\u001b[0m\u001b[0;34m[\u001b[0m\u001b[0ma\u001b[0m \u001b[0;32mfor\u001b[0m \u001b[0ma\u001b[0m \u001b[0;32min\u001b[0m \u001b[0mneed_cols\u001b[0m \u001b[0;32mif\u001b[0m \u001b[0ma\u001b[0m \u001b[0;32mis\u001b[0m \u001b[0;32mnot\u001b[0m \u001b[0;32mNone\u001b[0m\u001b[0;34m]\u001b[0m\u001b[0;34m)\u001b[0m\u001b[0;34m.\u001b[0m\u001b[0mtolist\u001b[0m\u001b[0;34m(\u001b[0m\u001b[0;34m)\u001b[0m\u001b[0;34m\u001b[0m\u001b[0m\n\u001b[0;32m--> 552\u001b[0;31m     \u001b[0mdata\u001b[0m \u001b[0;34m=\u001b[0m \u001b[0mdata\u001b[0m\u001b[0;34m[\u001b[0m\u001b[0mcols\u001b[0m\u001b[0;34m]\u001b[0m\u001b[0;34m\u001b[0m\u001b[0m\n\u001b[0m\u001b[1;32m    553\u001b[0m \u001b[0;34m\u001b[0m\u001b[0m\n\u001b[1;32m    554\u001b[0m     \u001b[0;31m# Initialize the grid\u001b[0m\u001b[0;34m\u001b[0m\u001b[0;34m\u001b[0m\u001b[0m\n",
      "\u001b[0;32m~/miniconda3/lib/python3.6/site-packages/pandas/core/frame.py\u001b[0m in \u001b[0;36m__getitem__\u001b[0;34m(self, key)\u001b[0m\n\u001b[1;32m   2131\u001b[0m         \u001b[0;32mif\u001b[0m \u001b[0misinstance\u001b[0m\u001b[0;34m(\u001b[0m\u001b[0mkey\u001b[0m\u001b[0;34m,\u001b[0m \u001b[0;34m(\u001b[0m\u001b[0mSeries\u001b[0m\u001b[0;34m,\u001b[0m \u001b[0mnp\u001b[0m\u001b[0;34m.\u001b[0m\u001b[0mndarray\u001b[0m\u001b[0;34m,\u001b[0m \u001b[0mIndex\u001b[0m\u001b[0;34m,\u001b[0m \u001b[0mlist\u001b[0m\u001b[0;34m)\u001b[0m\u001b[0;34m)\u001b[0m\u001b[0;34m:\u001b[0m\u001b[0;34m\u001b[0m\u001b[0m\n\u001b[1;32m   2132\u001b[0m             \u001b[0;31m# either boolean or fancy integer index\u001b[0m\u001b[0;34m\u001b[0m\u001b[0;34m\u001b[0m\u001b[0m\n\u001b[0;32m-> 2133\u001b[0;31m             \u001b[0;32mreturn\u001b[0m \u001b[0mself\u001b[0m\u001b[0;34m.\u001b[0m\u001b[0m_getitem_array\u001b[0m\u001b[0;34m(\u001b[0m\u001b[0mkey\u001b[0m\u001b[0;34m)\u001b[0m\u001b[0;34m\u001b[0m\u001b[0m\n\u001b[0m\u001b[1;32m   2134\u001b[0m         \u001b[0;32melif\u001b[0m \u001b[0misinstance\u001b[0m\u001b[0;34m(\u001b[0m\u001b[0mkey\u001b[0m\u001b[0;34m,\u001b[0m \u001b[0mDataFrame\u001b[0m\u001b[0;34m)\u001b[0m\u001b[0;34m:\u001b[0m\u001b[0;34m\u001b[0m\u001b[0m\n\u001b[1;32m   2135\u001b[0m             \u001b[0;32mreturn\u001b[0m \u001b[0mself\u001b[0m\u001b[0;34m.\u001b[0m\u001b[0m_getitem_frame\u001b[0m\u001b[0;34m(\u001b[0m\u001b[0mkey\u001b[0m\u001b[0;34m)\u001b[0m\u001b[0;34m\u001b[0m\u001b[0m\n",
      "\u001b[0;32m~/miniconda3/lib/python3.6/site-packages/pandas/core/frame.py\u001b[0m in \u001b[0;36m_getitem_array\u001b[0;34m(self, key)\u001b[0m\n\u001b[1;32m   2175\u001b[0m             \u001b[0;32mreturn\u001b[0m \u001b[0mself\u001b[0m\u001b[0;34m.\u001b[0m\u001b[0m_take\u001b[0m\u001b[0;34m(\u001b[0m\u001b[0mindexer\u001b[0m\u001b[0;34m,\u001b[0m \u001b[0maxis\u001b[0m\u001b[0;34m=\u001b[0m\u001b[0;36m0\u001b[0m\u001b[0;34m,\u001b[0m \u001b[0mconvert\u001b[0m\u001b[0;34m=\u001b[0m\u001b[0;32mFalse\u001b[0m\u001b[0;34m)\u001b[0m\u001b[0;34m\u001b[0m\u001b[0m\n\u001b[1;32m   2176\u001b[0m         \u001b[0;32melse\u001b[0m\u001b[0;34m:\u001b[0m\u001b[0;34m\u001b[0m\u001b[0m\n\u001b[0;32m-> 2177\u001b[0;31m             \u001b[0mindexer\u001b[0m \u001b[0;34m=\u001b[0m \u001b[0mself\u001b[0m\u001b[0;34m.\u001b[0m\u001b[0mloc\u001b[0m\u001b[0;34m.\u001b[0m\u001b[0m_convert_to_indexer\u001b[0m\u001b[0;34m(\u001b[0m\u001b[0mkey\u001b[0m\u001b[0;34m,\u001b[0m \u001b[0maxis\u001b[0m\u001b[0;34m=\u001b[0m\u001b[0;36m1\u001b[0m\u001b[0;34m)\u001b[0m\u001b[0;34m\u001b[0m\u001b[0m\n\u001b[0m\u001b[1;32m   2178\u001b[0m             \u001b[0;32mreturn\u001b[0m \u001b[0mself\u001b[0m\u001b[0;34m.\u001b[0m\u001b[0m_take\u001b[0m\u001b[0;34m(\u001b[0m\u001b[0mindexer\u001b[0m\u001b[0;34m,\u001b[0m \u001b[0maxis\u001b[0m\u001b[0;34m=\u001b[0m\u001b[0;36m1\u001b[0m\u001b[0;34m,\u001b[0m \u001b[0mconvert\u001b[0m\u001b[0;34m=\u001b[0m\u001b[0;32mTrue\u001b[0m\u001b[0;34m)\u001b[0m\u001b[0;34m\u001b[0m\u001b[0m\n\u001b[1;32m   2179\u001b[0m \u001b[0;34m\u001b[0m\u001b[0m\n",
      "\u001b[0;32m~/miniconda3/lib/python3.6/site-packages/pandas/core/indexing.py\u001b[0m in \u001b[0;36m_convert_to_indexer\u001b[0;34m(self, obj, axis, is_setter)\u001b[0m\n\u001b[1;32m   1267\u001b[0m                 \u001b[0;32mif\u001b[0m \u001b[0mmask\u001b[0m\u001b[0;34m.\u001b[0m\u001b[0many\u001b[0m\u001b[0;34m(\u001b[0m\u001b[0;34m)\u001b[0m\u001b[0;34m:\u001b[0m\u001b[0;34m\u001b[0m\u001b[0m\n\u001b[1;32m   1268\u001b[0m                     raise KeyError('{mask} not in index'\n\u001b[0;32m-> 1269\u001b[0;31m                                    .format(mask=objarr[mask]))\n\u001b[0m\u001b[1;32m   1270\u001b[0m \u001b[0;34m\u001b[0m\u001b[0m\n\u001b[1;32m   1271\u001b[0m                 \u001b[0;32mreturn\u001b[0m \u001b[0m_values_from_object\u001b[0m\u001b[0;34m(\u001b[0m\u001b[0mindexer\u001b[0m\u001b[0;34m)\u001b[0m\u001b[0;34m\u001b[0m\u001b[0m\n",
      "\u001b[0;31mKeyError\u001b[0m: \"['%_Female' 'Average_out-of-pocket_healthcare_spending' 'County_name'] not in index\""
     ]
    }
   ],
   "source": [
    "import seaborn as sns\n",
    "sns.set()\n",
    "\n",
    "# Load the example tips dataset\n",
    "cty = pd.read_csv('./data/NJ_data.csv')\n",
    "\n",
    "# Plot tip as a function of toal bill across days\n",
    "g = sns.lmplot(x=\"%_Female\", y=\"Average_out-of-pocket_healthcare_spending\", hue=\"County_name\", data=cty)\n",
    "\n",
    "# Use more informative axis labels than are provided by default\n",
    "g.set_axis_labels(\"Percent Female\", \"Average healthcare spending\")"
   ]
  },
  {
   "cell_type": "code",
   "execution_count": 19,
   "metadata": {},
   "outputs": [
    {
     "ename": "KeyError",
     "evalue": "\"['%_Female' 'Average_out-of-pocket_healthcare_spending' 'County_name'] not in index\"",
     "output_type": "error",
     "traceback": [
      "\u001b[0;31m---------------------------------------------------------------------------\u001b[0m",
      "\u001b[0;31mKeyError\u001b[0m                                  Traceback (most recent call last)",
      "\u001b[0;32m<ipython-input-19-20df5816b446>\u001b[0m in \u001b[0;36m<module>\u001b[0;34m()\u001b[0m\n\u001b[1;32m      1\u001b[0m \u001b[0;31m# Plot tip as a function of toal bill across days\u001b[0m\u001b[0;34m\u001b[0m\u001b[0;34m\u001b[0m\u001b[0m\n\u001b[1;32m      2\u001b[0m g = sns.lmplot(x=\"%_Female\", y=\"Average_out-of-pocket_healthcare_spending\", hue=\"County_name\",\n\u001b[0;32m----> 3\u001b[0;31m                data=cty)\n\u001b[0m\u001b[1;32m      4\u001b[0m \u001b[0;34m\u001b[0m\u001b[0m\n\u001b[1;32m      5\u001b[0m \u001b[0;31m# Use more informative axis labels than are provided by default\u001b[0m\u001b[0;34m\u001b[0m\u001b[0;34m\u001b[0m\u001b[0m\n",
      "\u001b[0;32m~/miniconda3/lib/python3.6/site-packages/seaborn/regression.py\u001b[0m in \u001b[0;36mlmplot\u001b[0;34m(x, y, data, hue, col, row, palette, col_wrap, size, aspect, markers, sharex, sharey, hue_order, col_order, row_order, legend, legend_out, x_estimator, x_bins, x_ci, scatter, fit_reg, ci, n_boot, units, order, logistic, lowess, robust, logx, x_partial, y_partial, truncate, x_jitter, y_jitter, scatter_kws, line_kws)\u001b[0m\n\u001b[1;32m    550\u001b[0m     \u001b[0mneed_cols\u001b[0m \u001b[0;34m=\u001b[0m \u001b[0;34m[\u001b[0m\u001b[0mx\u001b[0m\u001b[0;34m,\u001b[0m \u001b[0my\u001b[0m\u001b[0;34m,\u001b[0m \u001b[0mhue\u001b[0m\u001b[0;34m,\u001b[0m \u001b[0mcol\u001b[0m\u001b[0;34m,\u001b[0m \u001b[0mrow\u001b[0m\u001b[0;34m,\u001b[0m \u001b[0munits\u001b[0m\u001b[0;34m,\u001b[0m \u001b[0mx_partial\u001b[0m\u001b[0;34m,\u001b[0m \u001b[0my_partial\u001b[0m\u001b[0;34m]\u001b[0m\u001b[0;34m\u001b[0m\u001b[0m\n\u001b[1;32m    551\u001b[0m     \u001b[0mcols\u001b[0m \u001b[0;34m=\u001b[0m \u001b[0mnp\u001b[0m\u001b[0;34m.\u001b[0m\u001b[0munique\u001b[0m\u001b[0;34m(\u001b[0m\u001b[0;34m[\u001b[0m\u001b[0ma\u001b[0m \u001b[0;32mfor\u001b[0m \u001b[0ma\u001b[0m \u001b[0;32min\u001b[0m \u001b[0mneed_cols\u001b[0m \u001b[0;32mif\u001b[0m \u001b[0ma\u001b[0m \u001b[0;32mis\u001b[0m \u001b[0;32mnot\u001b[0m \u001b[0;32mNone\u001b[0m\u001b[0;34m]\u001b[0m\u001b[0;34m)\u001b[0m\u001b[0;34m.\u001b[0m\u001b[0mtolist\u001b[0m\u001b[0;34m(\u001b[0m\u001b[0;34m)\u001b[0m\u001b[0;34m\u001b[0m\u001b[0m\n\u001b[0;32m--> 552\u001b[0;31m     \u001b[0mdata\u001b[0m \u001b[0;34m=\u001b[0m \u001b[0mdata\u001b[0m\u001b[0;34m[\u001b[0m\u001b[0mcols\u001b[0m\u001b[0;34m]\u001b[0m\u001b[0;34m\u001b[0m\u001b[0m\n\u001b[0m\u001b[1;32m    553\u001b[0m \u001b[0;34m\u001b[0m\u001b[0m\n\u001b[1;32m    554\u001b[0m     \u001b[0;31m# Initialize the grid\u001b[0m\u001b[0;34m\u001b[0m\u001b[0;34m\u001b[0m\u001b[0m\n",
      "\u001b[0;32m~/miniconda3/lib/python3.6/site-packages/pandas/core/frame.py\u001b[0m in \u001b[0;36m__getitem__\u001b[0;34m(self, key)\u001b[0m\n\u001b[1;32m   2131\u001b[0m         \u001b[0;32mif\u001b[0m \u001b[0misinstance\u001b[0m\u001b[0;34m(\u001b[0m\u001b[0mkey\u001b[0m\u001b[0;34m,\u001b[0m \u001b[0;34m(\u001b[0m\u001b[0mSeries\u001b[0m\u001b[0;34m,\u001b[0m \u001b[0mnp\u001b[0m\u001b[0;34m.\u001b[0m\u001b[0mndarray\u001b[0m\u001b[0;34m,\u001b[0m \u001b[0mIndex\u001b[0m\u001b[0;34m,\u001b[0m \u001b[0mlist\u001b[0m\u001b[0;34m)\u001b[0m\u001b[0;34m)\u001b[0m\u001b[0;34m:\u001b[0m\u001b[0;34m\u001b[0m\u001b[0m\n\u001b[1;32m   2132\u001b[0m             \u001b[0;31m# either boolean or fancy integer index\u001b[0m\u001b[0;34m\u001b[0m\u001b[0;34m\u001b[0m\u001b[0m\n\u001b[0;32m-> 2133\u001b[0;31m             \u001b[0;32mreturn\u001b[0m \u001b[0mself\u001b[0m\u001b[0;34m.\u001b[0m\u001b[0m_getitem_array\u001b[0m\u001b[0;34m(\u001b[0m\u001b[0mkey\u001b[0m\u001b[0;34m)\u001b[0m\u001b[0;34m\u001b[0m\u001b[0m\n\u001b[0m\u001b[1;32m   2134\u001b[0m         \u001b[0;32melif\u001b[0m \u001b[0misinstance\u001b[0m\u001b[0;34m(\u001b[0m\u001b[0mkey\u001b[0m\u001b[0;34m,\u001b[0m \u001b[0mDataFrame\u001b[0m\u001b[0;34m)\u001b[0m\u001b[0;34m:\u001b[0m\u001b[0;34m\u001b[0m\u001b[0m\n\u001b[1;32m   2135\u001b[0m             \u001b[0;32mreturn\u001b[0m \u001b[0mself\u001b[0m\u001b[0;34m.\u001b[0m\u001b[0m_getitem_frame\u001b[0m\u001b[0;34m(\u001b[0m\u001b[0mkey\u001b[0m\u001b[0;34m)\u001b[0m\u001b[0;34m\u001b[0m\u001b[0m\n",
      "\u001b[0;32m~/miniconda3/lib/python3.6/site-packages/pandas/core/frame.py\u001b[0m in \u001b[0;36m_getitem_array\u001b[0;34m(self, key)\u001b[0m\n\u001b[1;32m   2175\u001b[0m             \u001b[0;32mreturn\u001b[0m \u001b[0mself\u001b[0m\u001b[0;34m.\u001b[0m\u001b[0m_take\u001b[0m\u001b[0;34m(\u001b[0m\u001b[0mindexer\u001b[0m\u001b[0;34m,\u001b[0m \u001b[0maxis\u001b[0m\u001b[0;34m=\u001b[0m\u001b[0;36m0\u001b[0m\u001b[0;34m,\u001b[0m \u001b[0mconvert\u001b[0m\u001b[0;34m=\u001b[0m\u001b[0;32mFalse\u001b[0m\u001b[0;34m)\u001b[0m\u001b[0;34m\u001b[0m\u001b[0m\n\u001b[1;32m   2176\u001b[0m         \u001b[0;32melse\u001b[0m\u001b[0;34m:\u001b[0m\u001b[0;34m\u001b[0m\u001b[0m\n\u001b[0;32m-> 2177\u001b[0;31m             \u001b[0mindexer\u001b[0m \u001b[0;34m=\u001b[0m \u001b[0mself\u001b[0m\u001b[0;34m.\u001b[0m\u001b[0mloc\u001b[0m\u001b[0;34m.\u001b[0m\u001b[0m_convert_to_indexer\u001b[0m\u001b[0;34m(\u001b[0m\u001b[0mkey\u001b[0m\u001b[0;34m,\u001b[0m \u001b[0maxis\u001b[0m\u001b[0;34m=\u001b[0m\u001b[0;36m1\u001b[0m\u001b[0;34m)\u001b[0m\u001b[0;34m\u001b[0m\u001b[0m\n\u001b[0m\u001b[1;32m   2178\u001b[0m             \u001b[0;32mreturn\u001b[0m \u001b[0mself\u001b[0m\u001b[0;34m.\u001b[0m\u001b[0m_take\u001b[0m\u001b[0;34m(\u001b[0m\u001b[0mindexer\u001b[0m\u001b[0;34m,\u001b[0m \u001b[0maxis\u001b[0m\u001b[0;34m=\u001b[0m\u001b[0;36m1\u001b[0m\u001b[0;34m,\u001b[0m \u001b[0mconvert\u001b[0m\u001b[0;34m=\u001b[0m\u001b[0;32mTrue\u001b[0m\u001b[0;34m)\u001b[0m\u001b[0;34m\u001b[0m\u001b[0m\n\u001b[1;32m   2179\u001b[0m \u001b[0;34m\u001b[0m\u001b[0m\n",
      "\u001b[0;32m~/miniconda3/lib/python3.6/site-packages/pandas/core/indexing.py\u001b[0m in \u001b[0;36m_convert_to_indexer\u001b[0;34m(self, obj, axis, is_setter)\u001b[0m\n\u001b[1;32m   1267\u001b[0m                 \u001b[0;32mif\u001b[0m \u001b[0mmask\u001b[0m\u001b[0;34m.\u001b[0m\u001b[0many\u001b[0m\u001b[0;34m(\u001b[0m\u001b[0;34m)\u001b[0m\u001b[0;34m:\u001b[0m\u001b[0;34m\u001b[0m\u001b[0m\n\u001b[1;32m   1268\u001b[0m                     raise KeyError('{mask} not in index'\n\u001b[0;32m-> 1269\u001b[0;31m                                    .format(mask=objarr[mask]))\n\u001b[0m\u001b[1;32m   1270\u001b[0m \u001b[0;34m\u001b[0m\u001b[0m\n\u001b[1;32m   1271\u001b[0m                 \u001b[0;32mreturn\u001b[0m \u001b[0m_values_from_object\u001b[0m\u001b[0;34m(\u001b[0m\u001b[0mindexer\u001b[0m\u001b[0;34m)\u001b[0m\u001b[0;34m\u001b[0m\u001b[0m\n",
      "\u001b[0;31mKeyError\u001b[0m: \"['%_Female' 'Average_out-of-pocket_healthcare_spending' 'County_name'] not in index\""
     ]
    }
   ],
   "source": [
    "# Plot tip as a function of toal bill across days\n",
    "g = sns.lmplot(x=\"%_Female\", y=\"Average_out-of-pocket_healthcare_spending\", hue=\"County_name\",\n",
    "               data = cty)\n",
    "\n",
    "# Use more informative axis labels than are provided by default\n",
    "g.set_axis_labels(\"Percent Female\", \"Average healthcare spending\")"
   ]
  },
  {
   "cell_type": "code",
   "execution_count": null,
   "metadata": {},
   "outputs": [],
   "source": [
    "sorted(set(cty['dimname'])"
   ]
  },
  {
   "cell_type": "code",
   "execution_count": null,
   "metadata": {},
   "outputs": [],
   "source": [
    "# Read in data\n",
    "cty = pd.read_csv('./data/NJ_data.csv')"
   ]
  },
  {
   "cell_type": "code",
   "execution_count": null,
   "metadata": {},
   "outputs": [],
   "source": [
    "# Convert months to pandas periods\n",
    "#cty['month'] = cty['periodid'].apply(lambda x: pd.Period(x, freq='M'))\n",
    "\n",
    "# Map income categories to quintiles\n",
    "#inc_dict = {\n",
    "#    '<21': 'q1',\n",
    "#    '21-40': 'q2',\n",
    "#    '41-60': 'q3',\n",
    "#    '61-80': 'q4',\n",
    "#    '81-100': 'q5'\n",
    "#}\n",
    "#cty['category'] = cty['category'].replace(int_dict)\n",
    "\n",
    "# Capture category labels for each dimension in the right order\n",
    "#dim_labs = {\n",
    "#    'age': ['<25', '25-34', '35-44', '45-54', '55-64', '65+'],\n",
    "#    'income': ['q1', 'q2', 'q3', 'q4', 'q5'],\n",
    "#    'bizsize': ['SMALL', 'MEDIUM', 'LARGE'],\n",
    "#    'location': ['Same Neighborhood', 'Same Region', 'Different Region'],\n",
    "#    'product': ['Durables', 'Fuel', 'Nondurables', 'Other Services', 'Restaurants']\n",
    "#}\n",
    "\n",
    "# Construct lists of areas, dimensions and measures\n",
    "areas = (cty['State'])\n",
    "#dims = sorted(set(cty['dimname']))\n",
    "measures = ['Average out-of-pocket healthcare spending']\n",
    "\n",
    "# Provide integer representation of months\n",
    "#months = sorted(set(cty['month']))\n",
    "#months_int = range(len(months))\n",
    "#months_dict = dict(zip(months, months_int))\n",
    "#cty['month_int'] = cty['month'].map(months_dict)\n",
    "\n",
    "# Define LCC palette\n",
    "cty_colors = ['#00a0dd', '#a2dadb', '#bbd976', '#ffe18b', '#fbaf5d', '#f57f32']\n",
    "\n",
    "cty.head()"
   ]
  },
  {
   "cell_type": "markdown",
   "metadata": {},
   "source": [
    "With our data in hand, it would be nice to visualize the components that we want.  Before we get to interactivity, let's just create static views of the content first.  The first step is to be able to isolate the subset of the data we want.  In particular, we want to be able to capture the information for the subset that corresponds to a particular area, dimension, and growth measure."
   ]
  },
  {
   "cell_type": "code",
   "execution_count": null,
   "metadata": {
    "scrolled": true
   },
   "outputs": [],
   "source": [
    "cty[cty['State'] == 'NJ']['Average out-of-pocket healthcare spending'].unstack('category')"
   ]
  },
  {
   "cell_type": "code",
   "execution_count": null,
   "metadata": {},
   "outputs": [],
   "source": [
    "def lcc_sub(area, dim, measure, df=lcc):\n",
    "    # Define area and dimension subset conditions\n",
    "    a = (df['area_name'] == area)\n",
    "    d = (df['dimname'] == dim)\n",
    "    # Subset data\n",
    "    df_sub = df[a & d][['month', 'category', measure]]\n",
    "    # Set month and category to the index\n",
    "    df_sub.set_index(['month', 'category'], inplace=True)\n",
    "    # Unstack category (aka - convert from long to wide format)\n",
    "    df_sub = df_sub.unstack('category') * 100\n",
    "    # Drop multiindex columns in favor of category names\n",
    "    df_sub.columns = [c[1] for c in df_sub.columns]\n",
    "    # If we are look at anything but the total growth rate, fix label order\n",
    "    if dim != 'Total':\n",
    "        df_sub = df_sub[dim_labs[dim]]\n",
    "    return df_sub.reset_index()\n",
    "\n",
    "lcc_sub('Chicago, IL - Metro Area', 'age', 'growth_contribution').head()"
   ]
  },
  {
   "cell_type": "markdown",
   "metadata": {},
   "source": [
    "Now we need to plot these data.  If we are looking at growth contributions, we want a stacked bar chart.  If we are looking at growth rates, we want a line chart.  So, we need to define two functions to handle these scenarios."
   ]
  },
  {
   "cell_type": "code",
   "execution_count": null,
   "metadata": {},
   "outputs": [],
   "source": [
    "# def plot_sub_bar(area, dim, measure, df=lcc, colors=lcc_colors, out_file='../figs/lcc_stacked_bar.html'):\n",
    "#     # Define location of the output file\n",
    "#     bp.output_file(out_file)\n",
    "#     # Capture relevant subset (note how we embed our first function)\n",
    "#     df_sub = lcc_sub(area, dim, measure, df)\n",
    "#     # Cast subset as a ColumnDataSource\n",
    "#     source = bm.ColumnDataSource(df_sub)\n",
    "#     # Create figure\n",
    "#     fig = bp.figure(x_range=(list(months_int)[0], list(months_int)[-1]), y_range=(-6, 6), plot_width=900, plot_height=500, \n",
    "#                     title='{m} by {d} in {a}'.format(m=measure, d=dim, a=area))\n",
    "#     # Generate vertical stacked chart\n",
    "#     fig.vbar_stack(dim_labs[dim], x='month_int', width=0.9, source=source, \n",
    "#                    color=colors, legend=[bcp.value(d) for d in dim_labs[dim]])\n",
    "#     # Save file\n",
    "#     bp.save(fig)\n",
    "#     return out_file\n",
    "    \n",
    "# stack_bar = plot_sub_bar('Chicago, IL - Metro Area', 'age', 'growth_contribution')\n",
    "\n",
    "# show_iframe(stack_bar, height=550, width=950)"
   ]
  },
  {
   "cell_type": "code",
   "execution_count": null,
   "metadata": {},
   "outputs": [],
   "source": [
    "df_sub = lcc_sub('Chicago, IL - Metro Area', 'age', 'growth_contribution')\n",
    "df_sub['month_str'] = df_sub['month'].apply(lambda x: x.strftime(\"%m-%Y\"))\n",
    "df_sub.head()"
   ]
  },
  {
   "cell_type": "code",
   "execution_count": null,
   "metadata": {},
   "outputs": [],
   "source": [
    "for i,d in enumerate(dim_labs['age']):\n",
    "    print(d)\n",
    "    tmp_bar = pgo.Bar(x=df_sub['month_str'], y=df_sub[d], name=d, marker=dict(color=colors[i]))\n",
    "    "
   ]
  },
  {
   "cell_type": "code",
   "execution_count": null,
   "metadata": {},
   "outputs": [],
   "source": [
    "[l.upper() for l in 'abcde']"
   ]
  },
  {
   "cell_type": "code",
   "execution_count": null,
   "metadata": {},
   "outputs": [],
   "source": [
    "def plot_sub_bar(area, dim, measure, df=lcc, colors=lcc_colors, out_file='../figs/lcc_stacked_bar.html'):\n",
    "    # Capture relevant subset (note how we embed our first function)\n",
    "    df_sub = lcc_sub(area, dim, measure, df)\n",
    "    # Convert months to string\n",
    "    df_sub['month_str'] = df_sub['month'].apply(lambda x: x.strftime(\"%m-%Y\"))\n",
    "    # Generate data traces for plotly\n",
    "    data = [pgo.Bar(x=df_sub['month_str'], y=df_sub[d], name=d, marker=dict(color=colors[i])) for i,d in enumerate(dim_labs[dim])]\n",
    "    # Define plotly layout\n",
    "    layout = pgo.Layout(barmode='stack', title='{m} in {a} by {d}'.format(a=area, d=dim, m=measure),  yaxis=dict(title='Year-over-Year Growth Contributions (pp)'))\n",
    "    # Define map figure\n",
    "    stack_fig = {\n",
    "        'data': data,\n",
    "        'layout': layout\n",
    "    }\n",
    "    return stack_fig\n",
    "    \n",
    "stack_fig = plot_sub_bar('Chicago, IL - Metro Area', 'age', 'growth_contribution')\n",
    "\n",
    "# Plot data\n",
    "pl.plotly.iplot(stack_fig, filename='lcc_stacked_bar')"
   ]
  },
  {
   "cell_type": "code",
   "execution_count": null,
   "metadata": {},
   "outputs": [],
   "source": [
    "def plot_sub_line(area, dim, measure, df=lcc, colors=lcc_colors, out_file='../figs/lcc_line.html'):\n",
    "    # Capture relevant subset (note how we embed our first function)\n",
    "    df_sub = lcc_sub(area, dim, measure, df)\n",
    "    # Convert months to string\n",
    "    df_sub['month_str'] = df_sub['month'].apply(lambda x: x.strftime(\"%m-%Y\"))\n",
    "    # Generate data traces for plotly\n",
    "    data = [pgo.Scatter(x=df_sub['month_str'], y=df_sub[d], name=d, line=dict(color=colors[i])) for i,d in enumerate(dim_labs[dim])]\n",
    "    # Define plotly layout\n",
    "    layout = pgo.Layout(title='{m} in {a} by {d}'.format(a=area, d=dim, m=measure), yaxis=dict(title='Year-over-Year Growth Rate (%)'))\n",
    "    # Define map figure\n",
    "    line_fig = {\n",
    "        'data': data,\n",
    "        'layout': layout\n",
    "    }\n",
    "    return line_fig\n",
    "    \n",
    "line_fig = plot_sub_line('Chicago, IL - Metro Area', 'age', 'growth_contribution')\n",
    "\n",
    "# Plot data\n",
    "pl.plotly.iplot(line_fig, filename='lcc_line')"
   ]
  },
  {
   "cell_type": "markdown",
   "metadata": {},
   "source": [
    "## Prepare Interactive Widgets"
   ]
  },
  {
   "cell_type": "markdown",
   "metadata": {},
   "source": [
    "To enable interactive exploration of the data, we are going to employ [IPython widgets](https://ipywidgets.readthedocs.io/en/latest/). These allow the user to change the content of the desired chart."
   ]
  },
  {
   "cell_type": "code",
   "execution_count": null,
   "metadata": {},
   "outputs": [],
   "source": [
    "area_select = widgets.Dropdown(\n",
    "                options = areas,\n",
    "                value = 'National',\n",
    "                description = 'Area:',\n",
    "                disabled = False)\n",
    "\n",
    "compare_select = widgets.SelectMultiple(\n",
    "                    options = areas,\n",
    "                    value = ['Atlanta, GA - Metro Area'],\n",
    "                    description = 'Comparison Areas:',\n",
    "                    disabled = False,\n",
    "                    rows=5)\n",
    "\n",
    "dim_select = widgets.Dropdown(\n",
    "                options = dims,\n",
    "                value = 'age',\n",
    "                description = 'Dimension:',\n",
    "                disabled = False)\n",
    "\n",
    "meas_select = widgets.Dropdown(\n",
    "                options = measures,\n",
    "                value = 'growth_contribution',\n",
    "                description = 'Measure:',\n",
    "                disabled = False)\n",
    "\n",
    "\n",
    "# Construct composite box to hold all selectors\n",
    "selections = [area_select, dim_select, meas_select]\n",
    "\n",
    "primary_layout = Layout(display='flex', flex_flow='columns', justify_content='flex-start', align_items='stretch')\n",
    "\n",
    "primary_select_box = VBox(children=selections, layout=primary_layout)\n",
    " \n",
    "secondary_layout = Layout(display='flex', flex_flow='columns', justify_content='flex-start',\n",
    "                          align_items='stretch')\n",
    "\n",
    "compare_select_box = Box(children=[compare_select],\n",
    "                         layout=secondary_layout)\n",
    "\n",
    "select_box = Box(children=[primary_select_box, compare_select_box], layout=primary_layout)\n",
    "\n",
    "display(select_box)"
   ]
  },
  {
   "cell_type": "code",
   "execution_count": null,
   "metadata": {},
   "outputs": [],
   "source": [
    "line_fig = plot_sub_line(area_select.value, dim_select.value, meas_select.value)\n",
    "\n",
    "# Plot data\n",
    "pl.plotly.iplot(line_fig, filename='lcc_line')"
   ]
  }
 ],
 "metadata": {
  "kernelspec": {
   "display_name": "Python 3",
   "language": "python",
   "name": "python3"
  },
  "language_info": {
   "codemirror_mode": {
    "name": "ipython",
    "version": 3
   },
   "file_extension": ".py",
   "mimetype": "text/x-python",
   "name": "python",
   "nbconvert_exporter": "python",
   "pygments_lexer": "ipython3",
   "version": "3.6.4"
  }
 },
 "nbformat": 4,
 "nbformat_minor": 2
}
